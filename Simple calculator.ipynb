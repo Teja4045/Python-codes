{
 "cells": [
  {
   "cell_type": "code",
   "execution_count": 1,
   "metadata": {},
   "outputs": [
    {
     "name": "stdout",
     "output_type": "stream",
     "text": [
      "simple caluculator\n",
      "enter number==9\n",
      "enter number2==3\n",
      "addition of numbers == 12.0\n",
      "subration of numbers == 6.0\n",
      "multiplication of numbers == 27.0\n",
      "division of numbers == 27.0\n",
      "modular division of numbers == 0.0\n",
      "floor division of numbers == 3.0\n",
      "exponent of number == 729.0\n"
     ]
    }
   ],
   "source": [
    "print('simple caluculator')\n",
    "a=float(input(\"enter number==\"))\n",
    "b=float(input(\"enter number2==\"))\n",
    "add=a+b\n",
    "sub=a-b\n",
    "mul=a*b\n",
    "div=a*b\n",
    "modulardiv=a%b\n",
    "floordiv=a//b\n",
    "expo=a**b\n",
    "print(\"addition of numbers ==\",add)\n",
    "print(\"subration of numbers ==\",sub)\n",
    "print(\"multiplication of numbers ==\",mul)\n",
    "print(\"division of numbers ==\",div)\n",
    "print(\"modular division of numbers ==\",modulardiv)\n",
    "print(\"floor division of numbers ==\",floordiv)\n",
    "print(\"exponent of number ==\",expo)\n"
   ]
  },
  {
   "cell_type": "code",
   "execution_count": null,
   "metadata": {},
   "outputs": [],
   "source": []
  }
 ],
 "metadata": {
  "kernelspec": {
   "display_name": "Python 3",
   "language": "python",
   "name": "python3"
  },
  "language_info": {
   "codemirror_mode": {
    "name": "ipython",
    "version": 3
   },
   "file_extension": ".py",
   "mimetype": "text/x-python",
   "name": "python",
   "nbconvert_exporter": "python",
   "pygments_lexer": "ipython3",
   "version": "3.8.3"
  }
 },
 "nbformat": 4,
 "nbformat_minor": 4
}
